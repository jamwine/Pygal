{
 "cells": [
  {
   "cell_type": "markdown",
   "metadata": {},
   "source": [
    "# Pygal"
   ]
  },
  {
   "cell_type": "markdown",
   "metadata": {},
   "source": [
    "### Installations and Imports"
   ]
  },
  {
   "cell_type": "code",
   "execution_count": null,
   "metadata": {},
   "outputs": [],
   "source": [
    "# !pip install pygal\n",
    "# !pip install cairosvg"
   ]
  },
  {
   "cell_type": "code",
   "execution_count": null,
   "metadata": {},
   "outputs": [],
   "source": [
    "import pandas as pd\n",
    "import numpy as np\n",
    "\n",
    "import pygal\n",
    "from IPython.display import display, HTML"
   ]
  },
  {
   "cell_type": "code",
   "execution_count": null,
   "metadata": {
    "code_folding": []
   },
   "outputs": [],
   "source": [
    "# Function for interactively loading Pygal graphs in Jupyter Notebook\n",
    "\n",
    "html_pygal = u\"\"\"\n",
    "    <!DOCTYPE html>\n",
    "    <html>\n",
    "        <head>\n",
    "            <script type=\"text/javascript\" src=\"http://kozea.github.com/pygal.js/javascripts/svg.jquery.js\"></script>\n",
    "            <script type=\"text/javascript\" src=\"https://kozea.github.io/pygal.js/2.0.x/pygal-tooltips.min.js\"></script>\n",
    "        </head>\n",
    "        <body><figure>{rendered_chart}</figure></body>\n",
    "    </html>\n",
    "\"\"\"\n",
    "def pygal_plot(chart):\n",
    "    rendered_chart = chart.render(is_unicode=True)\n",
    "    plot_html = html_pygal.format(rendered_chart=rendered_chart)\n",
    "    display(HTML(plot_html))"
   ]
  },
  {
   "cell_type": "markdown",
   "metadata": {},
   "source": [
    "### Loading Data"
   ]
  },
  {
   "cell_type": "code",
   "execution_count": null,
   "metadata": {},
   "outputs": [],
   "source": [
    "class_data=pd.read_csv('https://raw.githubusercontent.com/jamwine/Learn-Pandas/master/Test.csv')\n",
    "class_data.head()"
   ]
  },
  {
   "cell_type": "code",
   "execution_count": null,
   "metadata": {},
   "outputs": [],
   "source": [
    "year_data=pd.read_csv('https://raw.githubusercontent.com/jamwine/Data/master/Class%20Result.csv')\n",
    "bins=np.linspace(min(year_data[\"Total Marks\"]),max(year_data[\"Total Marks\"]),5)\n",
    "year_data[\"Grade\"]=pd.cut(year_data[\"Total Marks\"],bins,include_lowest =True,labels=[\"Grade D\",\"Grade C\",\"Grade B\",\"Grade A\"])\n",
    "year_data.head()"
   ]
  },
  {
   "cell_type": "code",
   "execution_count": null,
   "metadata": {},
   "outputs": [],
   "source": [
    "expenditure_df=pd.read_csv(\"https://raw.githubusercontent.com/jamwine/Data/master/Monthly%20Expenditure.csv\")\n",
    "expenditure_df.head()"
   ]
  },
  {
   "cell_type": "code",
   "execution_count": null,
   "metadata": {},
   "outputs": [],
   "source": [
    "stock_df=pd.read_csv('https://raw.githubusercontent.com/jamwine/Data/master/stock_data.csv')\n",
    "stock_df.columns=[\"Date\"]+list(stock_df.columns[1:])\n",
    "stock_df['Date']=stock_df['Date'].apply(lambda x: pd.to_datetime(x,format='%d-%m-%Y').date())\n",
    "stock_df.head()"
   ]
  },
  {
   "cell_type": "markdown",
   "metadata": {},
   "source": [
    "## Bar Graphs\n"
   ]
  },
  {
   "cell_type": "code",
   "execution_count": null,
   "metadata": {},
   "outputs": [],
   "source": [
    "grades_count = dict(year_data['Grade'].value_counts())\n",
    "\n",
    "bar_chart = pygal.Bar(height=360, width=640, explicit_size=True, truncate_legend=-1) # truncate_legend=-1 fits the legends\n",
    "bar_chart.title = \"Grades Summary\"\n",
    "bar_chart.x_labels = grades_count.keys()\n",
    "bar_chart.add('Students with Grade',grades_count.values())\n",
    "bar_chart.x_title = \"Final Grades\"\n",
    "bar_chart.y_title = \"Number of Students\"\n",
    "\n",
    "pygal_plot(bar_chart)"
   ]
  },
  {
   "cell_type": "markdown",
   "metadata": {},
   "source": [
    "* The SVG can be rendered in the browser directly using the `bar_chart.render_in_browser()` command.\n",
    "\n",
    "* SVGs can be saved locally by `bar_chart.render_to_file('name.svg')`. \n"
   ]
  },
  {
   "cell_type": "code",
   "execution_count": null,
   "metadata": {},
   "outputs": [],
   "source": [
    "hbar_chart = pygal.HorizontalBar(height=360, width=640, explicit_size=True)\n",
    "hbar_chart.title = \"Fetching maximum marks in each subject (A - M)\"\n",
    "hbar_chart.y_title = \"Subject (A - M)\"\n",
    "hbar_chart.x_title = \"Marks\"\n",
    "hbar_chart.x_labels = class_data.columns\n",
    "hbar_chart.add('Maximum Marks', class_data.max())\n",
    "pygal_plot(hbar_chart)"
   ]
  },
  {
   "cell_type": "code",
   "execution_count": null,
   "metadata": {},
   "outputs": [],
   "source": [
    "temp=(year_data[['Exam1','Exam2','Exam3']]>200).astype(int).sum(axis=1)\n",
    "count=[(temp>i).value_counts()[True] for i in range(3)]\n",
    "\n",
    "line_chart = pygal.Bar(height=360, width=640, explicit_size=True,truncate_legend=-1, rounded_bars=10, print_values=True)\n",
    "line_chart.title = \"Number of students scoring Marks > 200\"\n",
    "line_chart.y_title = \"Number of students\"  \n",
    "line_chart.add('in atleast one exam', count[0], formatter = lambda x: \"%s Students\" %count[0])\n",
    "line_chart.add('in atleast two exams', [{'value': count[1], 'xlink':'https://github.com/jamwine/Data/blob/master/Class%20Result.csv'}])\n",
    "line_chart.add('in all exams', [{'value':count[2], 'style':'fill: pink; stroke:black; stroke-width:4'}])\n",
    "pygal_plot(line_chart)"
   ]
  },
  {
   "cell_type": "code",
   "execution_count": null,
   "metadata": {},
   "outputs": [],
   "source": [
    "from pygal.style import Style\n",
    "custom_style = Style(colors=('#E80080', '#404040', '#9BC850'))\n",
    "bar_chart = pygal.Bar(height=360, width=640, explicit_size=True,truncate_legend=-1,style=custom_style)\n",
    "bar_chart.title = \"Examination Marks for first 5 students\"\n",
    "bar_chart.x_labels = map(lambda x: 'Id '+str(x), list(range(1,6)))\n",
    "bar_chart.x_title = \"Student ID\"\n",
    "bar_chart.y_title = \"Marks\"\n",
    "bar_chart.add('First term Exam', year_data['Exam1'][:5])\n",
    "bar_chart.add('Second term Exam', year_data['Exam2'][:5])\n",
    "bar_chart.add('Third term Exam', year_data['Exam3'][:5])\n",
    "pygal_plot(bar_chart)"
   ]
  },
  {
   "cell_type": "code",
   "execution_count": null,
   "metadata": {},
   "outputs": [],
   "source": [
    "bar_chart = pygal.StackedBar(height=360, width=640, explicit_size=True,truncate_legend=-1)\n",
    "bar_chart.title = \"Total Marks for first 10 students\"\n",
    "bar_chart.x_labels = map(lambda x: 'Student Id '+str(x), list(range(1,11)))\n",
    "bar_chart.x_title = \"Student ID\"\n",
    "bar_chart.y_title = \"Total Marks\"\n",
    "bar_chart.add('First term Exam', year_data['Exam1'][:10])\n",
    "bar_chart.add('Second term Exam', year_data['Exam2'][:10])\n",
    "bar_chart.add('Third term Exam', year_data['Exam3'][:10])\n",
    "pygal_plot(bar_chart)"
   ]
  },
  {
   "cell_type": "markdown",
   "metadata": {},
   "source": [
    "## Pie Charts"
   ]
  },
  {
   "cell_type": "code",
   "execution_count": null,
   "metadata": {},
   "outputs": [],
   "source": [
    "expenses = dict(expenditure_df.groupby('Category')['Cost'].sum())\n",
    "\n",
    "pie_chart = pygal.Pie(height=360, width=640, explicit_size=True)\n",
    "pie_chart.title = 'Expense Summary'\n",
    "for k,v in expenses.items():\n",
    "    pie_chart.add(k, v)\n",
    "pygal_plot(pie_chart)"
   ]
  },
  {
   "cell_type": "code",
   "execution_count": null,
   "metadata": {},
   "outputs": [],
   "source": [
    "from pygal.style import NeonStyle\n",
    "\n",
    "pie_chart = pygal.Pie(height=360, width=640, explicit_size=True, half_pie=True, style=NeonStyle)\n",
    "pie_chart.title = 'Expense Summary'\n",
    "for k,v in expenses.items():\n",
    "    pie_chart.add(k, v)\n",
    "pygal_plot(pie_chart)"
   ]
  },
  {
   "cell_type": "code",
   "execution_count": null,
   "metadata": {},
   "outputs": [],
   "source": [
    "donut_chart = pygal.Pie(height=360, width=640, explicit_size=True, inner_radius=0.4,  print_values=True)\n",
    "donut_chart.title = 'Grades Summary'\n",
    "for k,v in grades_count.items():\n",
    "    donut_chart.add(k, v)\n",
    "pygal_plot(donut_chart)"
   ]
  },
  {
   "cell_type": "code",
   "execution_count": null,
   "metadata": {},
   "outputs": [],
   "source": [
    "from pygal.style import DarkStyle\n",
    "\n",
    "donut_chart = pygal.Pie(height=360, width=640, explicit_size=True, inner_radius=0.4, half_pie=True, style=DarkStyle)\n",
    "donut_chart.title = 'Grades Summary'\n",
    "for k,v in grades_count.items():\n",
    "    donut_chart.add(k, v)\n",
    "pygal_plot(donut_chart)"
   ]
  },
  {
   "cell_type": "code",
   "execution_count": null,
   "metadata": {},
   "outputs": [],
   "source": [
    "temp=expenditure_df.groupby(['Day','Category'])['Cost'].sum().reset_index().set_index('Day')\n",
    "\n",
    "pie_chart = pygal.Pie(height=360, width=640, explicit_size=True)\n",
    "pie_chart.title = 'Daywise Total Expense for each category'\n",
    "for day in temp.index.unique():\n",
    "    pie_chart.add(day,[{'value':e[1], 'label':e[0]}  for e in (temp.loc[day].values)])\n",
    "pygal_plot(pie_chart)"
   ]
  },
  {
   "cell_type": "markdown",
   "metadata": {},
   "source": [
    "## Line Graphs"
   ]
  },
  {
   "cell_type": "code",
   "execution_count": null,
   "metadata": {},
   "outputs": [],
   "source": [
    "temp= stock_df[stock_df['Symbol']=='MSFT'].sort_values('Date')\n",
    "\n",
    "line_chart = pygal.Line(height=360, width=640, explicit_size=True, x_label_rotation=40)\n",
    "line_chart.title = 'MSFT Price Summary'\n",
    "line_chart.y_title = 'Price'\n",
    "line_chart.x_labels = temp['Date']\n",
    "line_chart.add('Open', temp['Open'])\n",
    "line_chart.add('Close', temp['Close'])\n",
    "line_chart.add('High', temp['High'])\n",
    "line_chart.add('Low', temp['Low'])\n",
    "\n",
    "pygal_plot(line_chart)"
   ]
  },
  {
   "cell_type": "code",
   "execution_count": null,
   "metadata": {},
   "outputs": [],
   "source": [
    "temp=stock_df[['Date','Close','Symbol']].set_index('Date').sort_index()\n",
    "close_df=pd.DataFrame()\n",
    "for sym in stock_df['Symbol'].unique():\n",
    "    close_df[sym]=temp[temp['Symbol']==sym]['Close']\n",
    "close_df=close_df.diff().iloc[1:]\n",
    "    \n",
    "line_chart = pygal.HorizontalLine(height=360, width=640, explicit_size=True, x_value_formatter=lambda x:x.strftime(\"%d %b\"))\n",
    "line_chart.title = 'Daily difference in Closing Price'\n",
    "line_chart.x_title = 'Price difference'\n",
    "line_chart.x_labels = close_df.index\n",
    "for col in close_df:\n",
    "    line_chart.add(col,close_df[col])\n",
    "pygal_plot(line_chart)"
   ]
  },
  {
   "cell_type": "code",
   "execution_count": null,
   "metadata": {},
   "outputs": [],
   "source": [
    "line_chart = pygal.StackedLine(height=360, width=640, explicit_size=True,fill=True, x_label_rotation=20)\n",
    "line_chart.title = 'Total Marks in all exams'\n",
    "line_chart.x_title = 'Student ID'\n",
    "line_chart.y_title = 'Marks'\n",
    "line_chart.x_labels = map(lambda x:'ID '+str(x), range(1, 16))\n",
    "line_chart.add('Exam 1', year_data.iloc[:15]['Exam1'])\n",
    "line_chart.add('Exam 2',  year_data.iloc[:15]['Exam2'])\n",
    "line_chart.add('Exam 3',  year_data.iloc[:15]['Exam3'])\n",
    "pygal_plot(line_chart)"
   ]
  },
  {
   "cell_type": "markdown",
   "metadata": {},
   "source": [
    "## XY Plots"
   ]
  },
  {
   "cell_type": "code",
   "execution_count": null,
   "metadata": {},
   "outputs": [],
   "source": [
    "from pygal import Config\n",
    "custom_config = Config(width = 640, height = 360, explicit_size = True)"
   ]
  },
  {
   "cell_type": "code",
   "execution_count": null,
   "metadata": {},
   "outputs": [],
   "source": [
    "sine_points = [(x, np.sin(np.radians(x))) for x in range(-180, 181, 10)]\n",
    "cosine_points = [(x, np.cos(np.radians(x))) for x in range(-180, 181, 10)]\n",
    "\n",
    "xy_chart = pygal.XY(custom_config)\n",
    "xy_chart.title = 'sin(x) and cos(x) with strokes'\n",
    "xy_chart.add('sin(x)', sine_points, show_dots = False)\n",
    "xy_chart.add('cos(x)', cosine_points)\n",
    "pygal_plot(xy_chart)"
   ]
  },
  {
   "cell_type": "code",
   "execution_count": null,
   "metadata": {},
   "outputs": [],
   "source": [
    "chart = pygal.XY(custom_config, stroke=False)\n",
    "chart.x_title = 'values'\n",
    "chart.title = 'SQUARES AND CUBES'\n",
    "chart.x_labels = list(range(1,11))\n",
    "chart.add('squares', [(x,x**2) for x in list(range(1,11))])\n",
    "chart.add('cubes', [(x,x**3) for x in list(range(1,11))])\n",
    "pygal_plot(chart)"
   ]
  },
  {
   "cell_type": "code",
   "execution_count": null,
   "metadata": {},
   "outputs": [],
   "source": [
    "exam_chart = pygal.XY(custom_config,stroke=False)\n",
    "\n",
    "exam_chart.title = 'Exams Performance Comparision'\n",
    "exam_chart.x_title = 'Exam1 Marks'\n",
    "exam_chart.y_title = 'Exam2 & Exam3 Marks'\n",
    "\n",
    "exam_chart.add('Exam 2', list(zip(year_data['Exam1'],year_data['Exam2'])))\n",
    "exam_chart.add('Exam 3', list(zip(year_data['Exam1'],year_data['Exam3'])))\n",
    "\n",
    "pygal_plot(exam_chart)"
   ]
  },
  {
   "cell_type": "markdown",
   "metadata": {},
   "source": [
    "## Histogram Chart"
   ]
  },
  {
   "cell_type": "code",
   "execution_count": null,
   "metadata": {},
   "outputs": [],
   "source": [
    "def get_bins_bars(series, bins, getbins=False):\n",
    "    \"\"\"\n",
    "    Function to get bins, bars and labels (required for histograms and pyramid charts.\n",
    "    Returns series_bins, x_labels when parameter getbins=True, else returns bars\n",
    "    \"\"\"\n",
    "    bars = []\n",
    "    series_bins=pd.cut(series, bins, include_lowest = True).value_counts().sort_index()\n",
    "    for index,value in zip(series_bins.index,series_bins.values):\n",
    "        bars.append({'value':(value, round(index.left),round(index.right)),'label':str(round(index.left))+' to '+str(round(index.right))})\n",
    "    if getbins:\n",
    "        x_labels=[b.get('label') for b in bars]\n",
    "        return series_bins, x_labels\n",
    "    return bars"
   ]
  },
  {
   "cell_type": "code",
   "execution_count": null,
   "metadata": {},
   "outputs": [],
   "source": [
    "bars = get_bins_bars(series = year_data['Percentage'], bins=[40,60,75,90,95,100])\n",
    "\n",
    "histogram_chart = pygal.Histogram(custom_config)\n",
    "histogram_chart.add('Students', bars)\n",
    "histogram_chart.title = \"No. of Students by Percentage Group\"\n",
    "histogram_chart.x_title = \"Percentage\"\n",
    "histogram_chart.y_title = \"Number of Students\"\n",
    "pygal_plot(histogram_chart)"
   ]
  },
  {
   "cell_type": "code",
   "execution_count": null,
   "metadata": {},
   "outputs": [],
   "source": [
    "from pygal.style import LightGreenStyle\n",
    "\n",
    "msft_bars = get_bins_bars(series = close_df['MSFT'], bins=[-10,-5,-2,0,2,5,10])\n",
    "apple_bars = get_bins_bars(series = close_df['AAPL'], bins=[-10,-5,-2,0,2,5,10])\n",
    "\n",
    "histogram_chart = pygal.Histogram(custom_config, legend_at_bottom=True, style= LightGreenStyle())\n",
    "histogram_chart.title = 'Daily Price Changes of MSFT and AAPL'\n",
    "histogram_chart.x_title = 'Price Range'\n",
    "histogram_chart.y_title = 'Frequency'\n",
    "histogram_chart.add('MSFT', msft_bars)\n",
    "histogram_chart.add('AAPL', apple_bars)\n",
    "pygal_plot(histogram_chart)"
   ]
  },
  {
   "cell_type": "markdown",
   "metadata": {},
   "source": [
    "This graph is better visualized as a Pyramid chart."
   ]
  },
  {
   "cell_type": "markdown",
   "metadata": {},
   "source": [
    "## Pyramid Chart"
   ]
  },
  {
   "cell_type": "code",
   "execution_count": null,
   "metadata": {},
   "outputs": [],
   "source": [
    "msft_bins, x_labels = get_bins_bars(series = close_df['MSFT'], bins=[-10,-5,-2,0,2,5,10],getbins=True)\n",
    "apple_bins, x_labels = get_bins_bars(series = close_df['AAPL'], bins=[-10,-5,-2,0,2,5,10],getbins=True)\n",
    "\n",
    "pyramid_chart = pygal.Pyramid(custom_config, legend_at_bottom=True)\n",
    "pyramid_chart.x_labels =  x_labels\n",
    "pyramid_chart.y_title = 'Price Range'\n",
    "pyramid_chart.x_title = 'Frequency'\n",
    "pyramid_chart.title = 'Daily Price Changes of MSFT and AAPL'\n",
    "pyramid_chart.add('MSFT', msft_bins)\n",
    "pyramid_chart.add('AAPL', apple_bins)\n",
    "pygal_plot(pyramid_chart)"
   ]
  },
  {
   "cell_type": "markdown",
   "metadata": {},
   "source": [
    "## Box Plots"
   ]
  },
  {
   "cell_type": "code",
   "execution_count": null,
   "metadata": {},
   "outputs": [],
   "source": [
    "box_whisker_plot = pygal.Box(custom_config)\n",
    "box_whisker_plot.title = 'Exam Statistics'\n",
    "\n",
    "box_whisker_plot.add('Exam1', year_data['Exam1'])\n",
    "box_whisker_plot.add('Exam2', year_data['Exam2'])\n",
    "box_whisker_plot.add('Exam3', year_data['Exam3'])\n",
    "pygal_plot(box_whisker_plot)"
   ]
  },
  {
   "cell_type": "markdown",
   "metadata": {},
   "source": [
    "Use `box_mode=\"1.5IQR\"` in the configuration to change whiskers length: Lower_whisker will be the first quartile minus 1.5 times the interquartile range and Upper_whisker will be the third quartile plus 1.5 times the interquartile range."
   ]
  },
  {
   "cell_type": "code",
   "execution_count": null,
   "metadata": {},
   "outputs": [],
   "source": [
    "box_whisker_plot = pygal.Box(custom_config, box_mode=\"1.5IQR\")\n",
    "box_whisker_plot.title = 'Exam Statistics'\n",
    "\n",
    "box_whisker_plot.add('Exam1', year_data['Exam1'])\n",
    "box_whisker_plot.add('Exam2', year_data['Exam2'])\n",
    "box_whisker_plot.add('Exam3', year_data['Exam3'])\n",
    "pygal_plot(box_whisker_plot) "
   ]
  },
  {
   "cell_type": "markdown",
   "metadata": {},
   "source": [
    "**Tukey boxplot** is the default boxplot in most the visualization frameworks, it finds the outliers. Anything above the third quartile + 1.5 IQR for the upper boxplot is an outlier and anything below the first quartile - 1.5 IQR is an outlier."
   ]
  },
  {
   "cell_type": "code",
   "execution_count": null,
   "metadata": {},
   "outputs": [],
   "source": [
    "box_whisker_plot = pygal.Box(custom_config, box_mode=\"tukey\")\n",
    "box_whisker_plot.title = 'Exam Statistics'\n",
    "\n",
    "box_whisker_plot.add('Exam1', year_data['Exam1'])\n",
    "box_whisker_plot.add('Exam2', year_data['Exam2'])\n",
    "box_whisker_plot.add('Exam3', year_data['Exam3'])\n",
    "pygal_plot(box_whisker_plot) "
   ]
  },
  {
   "cell_type": "markdown",
   "metadata": {},
   "source": [
    "In the Boxplot mode \"Stdev\" - Sample Standard Deviation:\n",
    "* Upper Whisker = Highest point that's within the \"Q2 + Sample Standard Deviation\"\n",
    "* Lower Whisker = Lowest data point that's greater than \"Q2 -Sample Standard Deviation\""
   ]
  },
  {
   "cell_type": "code",
   "execution_count": null,
   "metadata": {},
   "outputs": [],
   "source": [
    "box_whisker_plot = pygal.Box(custom_config, box_mode=\"stdev\")\n",
    "box_whisker_plot.title = 'Exam Statistics'\n",
    "\n",
    "box_whisker_plot.add('Exam1', year_data['Exam1'])\n",
    "box_whisker_plot.add('Exam2', year_data['Exam2'])\n",
    "box_whisker_plot.add('Exam3', year_data['Exam3'])\n",
    "pygal_plot(box_whisker_plot) "
   ]
  },
  {
   "cell_type": "markdown",
   "metadata": {},
   "source": [
    "In the Boxplot mode \"pstdev\" - Population Standard Deviation:\n",
    "* Upper Whisker = Highest point that's within the \"Q2 + Population Standard Deviation\"\n",
    "* Lower Whisker = Lowest data point that's greater than \"Q2 -Population Standard Deviation\""
   ]
  },
  {
   "cell_type": "code",
   "execution_count": null,
   "metadata": {},
   "outputs": [],
   "source": [
    "box_whisker_plot = pygal.Box(custom_config, box_mode=\"pstdev\")\n",
    "box_whisker_plot.title = 'Exam Statistics'\n",
    "\n",
    "box_whisker_plot.add('Exam1', year_data['Exam1'])\n",
    "box_whisker_plot.add('Exam2', year_data['Exam2'])\n",
    "box_whisker_plot.add('Exam3', year_data['Exam3'])\n",
    "pygal_plot(box_whisker_plot) "
   ]
  },
  {
   "cell_type": "markdown",
   "metadata": {},
   "source": [
    "## Advanced Charts"
   ]
  },
  {
   "cell_type": "code",
   "execution_count": null,
   "metadata": {},
   "outputs": [],
   "source": [
    "# dot_chart = pygal.Dot(x_label_rotation=30)\n",
    "# # nameing a title\n",
    "# dot_chart.title = 'A vs B vs C vs D'\n",
    "# # namind different labels\n",
    "# dot_chart.x_labels = ['Richards', 'DeltaBlue', 'Crypto', 'RayTrace', 'EarleyBoyer', 'RegExp', 'Splay', 'NavierStokes']\n",
    "# # adding the data\n",
    "# dot_chart.add('A', [6395, 2212, 7520, 7218, 12464, 1660, 2123, 8607])\n",
    "# dot_chart.add('B', [8473, 9099, 1100, 2651, 6361, 1044, 3797, 9450])\n",
    "# dot_chart.add('C', [3472, 2933, 4503, 5229, 5510, 1828, 9013, 4669])\n",
    "# dot_chart.add('D', [43, 41, 59, 79, 144, 136, 34, 102])"
   ]
  },
  {
   "cell_type": "code",
   "execution_count": null,
   "metadata": {},
   "outputs": [],
   "source": [
    "# from pygal.maps.world import World\n",
    "\n",
    "# worldmap_chart = pygal.maps.world.World()\n",
    "# worldmap_chart.title = 'Some countries'\n",
    "# worldmap_chart.add('F countries', ['fr', 'fi'])\n",
    "# worldmap_chart.add('M countries', ['ma', 'mc', 'md', 'me', 'mg',\n",
    "#                                    'mk', 'ml', 'mm', 'mn', 'mo',\n",
    "#                                    'mr', 'mt', 'mu', 'mv', 'mw',\n",
    "#                                    'mx', 'my', 'mz'])\n",
    "# worldmap_chart.add('U countries', ['ua', 'ug', 'us', 'uy', 'uz'])\n",
    "# pygal_plot(worldmap_chart)"
   ]
  },
  {
   "cell_type": "code",
   "execution_count": null,
   "metadata": {},
   "outputs": [],
   "source": [
    "# worldmap_chart = pygal.maps.world.World()\n",
    "# worldmap_chart.title = 'Color mapping of temperature scalar field on March 20'\n",
    "# worldmap_chart.add('below 0 Degrees', {\n",
    "#     'ca': -5.35,'gl': -10,'mn':-0.7,'aq':-20,'ru': -5.1\n",
    "# })\n",
    "# worldmap_chart.add('Above 0 and below 15', {\n",
    "#     'af': 12.6,'al': 11.4,'ad': 7.6,'tj':2,'ua':8.3,'ar': 14.8,'ee': 5.1,'cn': 6.95,'am': 7.15,'az': 11.95,'by': 6.15,'be': 9.55,'bt': 7.4,\n",
    "#     'bo': 21.55,'at':6.35,'bg': 10.55,'ch':5.5,'cl':8.45,'cz':7.55,'de':8.55,'dk':7.5,'ee':5.1,'es':13.3,'fi':1.7,'fr':10.7,\n",
    "#     'gb':8.45,'ge':5.8,'hr':10.4,'hu':9.75,'ie':9.3,'is':1.75,'it':13.45,'jp':11.15,'kg':1.75,'kr':5.7,'kp':11.5,'kz':6.4,\n",
    "#     'li':5.65,'lt':6.2,'lu':8.65,'lv':5.6,'mc':13.55,'md':9.45,'me':10.55,'mk':9.7,'nl':9.25,'no':1.25,'np':8.25,'nz':10.55,\n",
    "#     'pl':7.85,'pr':15,'rs':10.55,'ro':8.8,'tr':11.1,'se':2.1,'us':8.55,'si':8.1,'sk':6.7,'uz':12.05,'sm':11.85\n",
    "# })\n",
    "# worldmap_chart.add('Above 15 and below 25', {\n",
    "#     'in': 23.5,'br': 24.95,'vn':24.45,'tw':20,'tz':22.23,'uy':17.55,'ug':22.8,'pt':15.15,'py':23.55,'rw':17.86,'bf': 20,\n",
    "#     'co': 24.95,'eg': 22.1,'au': 21.65,'sa':24.85,'bd': 25,'bi':19.8,'bw':21.5,'cd':24.55,'cf':24.9,'cg':24,'ci':20,'cr':24.8,\n",
    "#     'cv':23.4,'cy':18.45,'do':24.55,'dz':22.5,'tm':15.1,'tn':19.2,'ec':21.85,'gr':15.4,'gt':23.4,'hk':20,'hn':23.5,'ht':24.9,'id':23,\n",
    "#     'il':19.4,'iq':21.4,'ir':17.25,'jm':24.95,'jo':18.3,'ke':24.75,'lb':16.4,'ly':21.8,'ma':17.1,'mg':22.65,'mu':22.35,'mt':19.2,\n",
    "#     'mw':21.19,'mx':21,'mz':23.8,'ni':24.9,'pe':19.6,'pk':20.5,'ye':23.85,'zm':24.1,'zw':21,'st':23.75,'sy':17.75\n",
    "# })\n",
    "# worldmap_chart.add(\"Above 25\", {\n",
    "#     'bn': 26.85,'pg':25.5,'tg':27.15,'ph':25.85,'th':26.3,'tl':25.25,'ve':25.35,'sc':27.15,'pa':25.4,'my':25.4,'cm':26.6,\n",
    "#     'cu': 25.2,'sn':27.85,'sd':26.9,'sr':25.7,'so':27.05,'ga': 25.1,'gw': 26.75,'bz': 25.3,'bj': 27.55,'ae': 27,'bh': 27.15,\n",
    "#     'cm':26.6,'dj':28,'er':25.5,'gh':27,'gm':27.7,'gn':25.7,'gu':26,'gy':26,'kw':25.35,'lk':26.95,'ml':28,'mr':27.65,'mv':27.65,\n",
    "#     'ne':27.15,'ng':26.8,'sg':26.45,'sl':26.05\n",
    "# })\n",
    "# pygal_plot(worldmap_chart)"
   ]
  },
  {
   "cell_type": "code",
   "execution_count": null,
   "metadata": {},
   "outputs": [],
   "source": [
    "# from pygal.style import RotateStyle\n",
    "# rotate_style = RotateStyle('#75ff98')\n",
    "\n",
    "# phases = ['Install', \n",
    "#           'Register', \n",
    "#           'Order', \n",
    "#           'Monthly Order', \n",
    "#           'Weekly Order', \n",
    "#           'Daily Order']\n",
    "\n",
    "# funnel_chart = pygal.Funnel(width = 640,\n",
    "#                             height = 360,\n",
    "#                             explicit_size = True,\n",
    "#                             style = rotate_style)\n",
    "\n",
    "# funnel_chart.title = 'Food Delivery App Usage'\n",
    "# funnel_chart.x_labels = phases\n",
    "\n",
    "# funnel_chart.add('Install', 10064)\n",
    "# funnel_chart.add('Register', 7473)\n",
    "# funnel_chart.add('Order', 6395)\n",
    "# funnel_chart.add('Monthly Order', 5254)\n",
    "# funnel_chart.add('Weekly Order', 1805)\n",
    "# funnel_chart.add('Daily Order', 429)\n",
    "\n",
    "# pygal_plot(funnel_chart)"
   ]
  },
  {
   "cell_type": "code",
   "execution_count": null,
   "metadata": {},
   "outputs": [],
   "source": []
  },
  {
   "cell_type": "code",
   "execution_count": null,
   "metadata": {},
   "outputs": [],
   "source": [
    "# from pygal.maps.world import World\n",
    "# # creating object\n",
    "# worldmap_chart = pygal.maps.world.World()\n",
    "# # adding title\n",
    "# worldmap_chart.title = 'Some countries'\n",
    "# # add data\n",
    "# worldmap_chart.add('F countries', ['fr', 'fi'])\n",
    "# worldmap_chart.add('I countries', ['in', 'il','iq'])\n",
    "# worldmap_chart.add('M countries', ['ma', 'mc', 'md', 'me', 'mg',\n",
    "#                                    'mk', 'ml', 'mm', 'mn', 'mo',\n",
    "#                                    'mr', 'mt', 'mu', 'mv', 'mw',\n",
    "#                                    'mx', 'my', 'mz'])\n",
    "# worldmap_chart.add('U countries', ['ua', 'ug', 'us', 'uy', 'uz'])"
   ]
  },
  {
   "cell_type": "code",
   "execution_count": null,
   "metadata": {},
   "outputs": [],
   "source": [
    "# worldmap_chart = pygal.maps.world.World()\n",
    "# # adding the title.\n",
    "# worldmap_chart.title = 'random data'\n",
    "# # adding the random values.\n",
    "# worldmap_chart.add('values', {\n",
    "#   'af': 14,\n",
    "#   'bd': 1,\n",
    "#   'by': 3,\n",
    "#   'cn': 1000,\n",
    "#   'gm': 9,\n",
    "#   'in': 1,\n",
    "#   'ir': 314,\n",
    "#   'iq': 129,\n",
    "#   'jp': 7,\n",
    "#   'kp': 6,\n",
    "#   'pk': 1,\n",
    "#   'ps': 6,\n",
    "#   'sa': 79,\n",
    "#   'so': 6,\n",
    "#   'sd': 5,\n",
    "#   'tw': 6,\n",
    "#   'ae': 1,\n",
    "#   'us': 43,\n",
    "#   'ye': 28\n",
    "# })"
   ]
  },
  {
   "cell_type": "code",
   "execution_count": null,
   "metadata": {},
   "outputs": [],
   "source": [
    "# worldmap_chart = pygal.maps.world.World()\n",
    "# supra = pygal.maps.world.SupranationalWorld()\n",
    "# # adding the values\n",
    "# supra.add('Asia', [('asia', 1)])\n",
    "# supra.add('Europe', [('europe', 2)])\n",
    "# supra.add('Africa', [('africa', 3)])\n",
    "# supra.add('North america', [('north_america', 4)])\n",
    "# supra.add('South america', [('south_america', 5)])\n",
    "# supra.add('Oceania', [('oceania', 6)])\n",
    "# supra.add('Antartica', [('antartica', 7)])"
   ]
  },
  {
   "cell_type": "code",
   "execution_count": null,
   "metadata": {},
   "outputs": [],
   "source": []
  },
  {
   "cell_type": "code",
   "execution_count": null,
   "metadata": {},
   "outputs": [],
   "source": []
  },
  {
   "cell_type": "code",
   "execution_count": null,
   "metadata": {},
   "outputs": [],
   "source": [
    "# import requests\n",
    "# url =  'https://api.github.com/search/repositories?q=language:python&sort=stars'\n",
    "# r = requests.get(url)\n",
    "# print(\"Status code:\",r.status_code)"
   ]
  },
  {
   "cell_type": "code",
   "execution_count": null,
   "metadata": {},
   "outputs": [],
   "source": [
    "# response_dict = r.json()\n",
    "# print(response_dict.keys())"
   ]
  },
  {
   "cell_type": "code",
   "execution_count": null,
   "metadata": {},
   "outputs": [],
   "source": [
    "# print(\"Total repositories:\", response_dict['total_count'])"
   ]
  },
  {
   "cell_type": "code",
   "execution_count": null,
   "metadata": {},
   "outputs": [],
   "source": [
    "# # Explore information about the repositories.\n",
    "# repo_dicts = response_dict['items']\n",
    "# print(\"Repositories returned:\",len(repo_dicts))"
   ]
  },
  {
   "cell_type": "code",
   "execution_count": null,
   "metadata": {},
   "outputs": [],
   "source": [
    "# repo_dict = repo_dicts[0]\n",
    "# print(\"\\nKeys:\",len(repo_dict))\n",
    "# for key in sorted(repo_dict.keys()):\n",
    "#     print(key)"
   ]
  },
  {
   "cell_type": "code",
   "execution_count": null,
   "metadata": {},
   "outputs": [],
   "source": [
    "# print(\"\\nSelected information about first repository:\")\n",
    "# print('Name:',repo_dict['name'])\n",
    "# print('Owner:',repo_dict['owner']['login'])\n",
    "# print('Stars:',repo_dict['stargazers_count'])\n",
    "# print('Repository:',repo_dict['html_url'])\n",
    "# print('Created:',repo_dict['created_at'])\n",
    "# print('Updated:',repo_dict['updated_at'])\n",
    "# print('Description:',repo_dict['description'])"
   ]
  },
  {
   "cell_type": "code",
   "execution_count": null,
   "metadata": {},
   "outputs": [],
   "source": [
    "# from pygal.style import LightColorizedStyle as LCS, LightenStyle as LS\n",
    "# names, plot_dicts = [], []\n",
    "# for repo_dict in repo_dicts:\n",
    "#     names.append(repo_dict['name'])\n",
    "\n",
    "#     # Get the project description, if one is available.\n",
    "#     description = repo_dict['description']\n",
    "#     if not description:\n",
    "#         description = \"No description provided.\"\n",
    "\n",
    "#     plot_dict = {\n",
    "#         'value': repo_dict['stargazers_count'],\n",
    "#         'label': description,\n",
    "#         'xlink': repo_dict['html_url'],\n",
    "#         }\n",
    "#     plot_dicts.append(plot_dict)\n",
    "\n",
    "# # Make visualization.\n",
    "# my_style = LS('#333366', base_style=LCS)\n",
    "# my_style.title_font_size = 24\n",
    "# my_style.label_font_size = 14\n",
    "# my_style.major_label_font_size = 18\n",
    "\n",
    "# my_config = pygal.Config()\n",
    "# my_config.x_label_rotation = 45\n",
    "# my_config.show_legend = False\n",
    "# my_config.truncate_label = 15\n",
    "# my_config.show_y_guides = False\n",
    "# my_config.width = 1000\n",
    "\n",
    "# chart = pygal.Bar(my_config, style=my_style)\n",
    "# chart.title = 'Most-Starred Python Projects on GitHub'\n",
    "# chart.x_labels = names\n",
    "\n",
    "# chart.add('', plot_dicts)\n",
    "# # chart.render_to_file('python_repos.svg')\n",
    "# pygal_plot(chart)"
   ]
  },
  {
   "cell_type": "code",
   "execution_count": null,
   "metadata": {},
   "outputs": [],
   "source": []
  }
 ],
 "metadata": {
  "kernelspec": {
   "display_name": "Python 3",
   "language": "python",
   "name": "python3"
  },
  "language_info": {
   "codemirror_mode": {
    "name": "ipython",
    "version": 3
   },
   "file_extension": ".py",
   "mimetype": "text/x-python",
   "name": "python",
   "nbconvert_exporter": "python",
   "pygments_lexer": "ipython3",
   "version": "3.7.3"
  }
 },
 "nbformat": 4,
 "nbformat_minor": 4
}
